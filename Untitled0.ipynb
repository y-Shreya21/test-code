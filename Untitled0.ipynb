{
  "nbformat": 4,
  "nbformat_minor": 0,
  "metadata": {
    "colab": {
      "provenance": [],
      "authorship_tag": "ABX9TyNWoDXJ+2tn0AhDqU/xf8D2",
      "include_colab_link": true
    },
    "kernelspec": {
      "name": "python3",
      "display_name": "Python 3"
    },
    "language_info": {
      "name": "python"
    }
  },
  "cells": [
    {
      "cell_type": "markdown",
      "metadata": {
        "id": "view-in-github",
        "colab_type": "text"
      },
      "source": [
        "<a href=\"https://colab.research.google.com/github/y-Shreya21/test-code/blob/main/Untitled0.ipynb\" target=\"_parent\"><img src=\"https://colab.research.google.com/assets/colab-badge.svg\" alt=\"Open In Colab\"/></a>"
      ]
    },
    {
      "cell_type": "code",
      "execution_count": null,
      "metadata": {
        "colab": {
          "base_uri": "https://localhost:8080/"
        },
        "id": "nSHfkRvYFf42",
        "outputId": "4825f8ae-ac6d-44d6-cbe2-fef019de56c1"
      },
      "outputs": [
        {
          "output_type": "stream",
          "name": "stdout",
          "text": [
            "array created from list: [1 2 3 4 5]\n",
            "array of zeros: [[0. 0. 0.]\n",
            " [0. 0. 0.]\n",
            " [0. 0. 0.]]\n",
            "array of ones: [[1. 1. 1.]\n",
            " [1. 1. 1.]\n",
            " [1. 1. 1.]]\n",
            "2D Identity Matrix:\n",
            " [[1. 0. 0.]\n",
            " [0. 1. 0.]\n",
            " [0. 0. 1.]]\n",
            "array created from arange: [ 0  3  6  9 12 15 18]\n",
            "array created from linespace: [0.   0.25 0.5  0.75 1.  ]\n",
            "Random array if 2X3:\n",
            " [[0.01860748 0.82795937 0.09206177]\n",
            " [0.83831399 0.01268247 0.27352866]]\n"
          ]
        }
      ],
      "source": [
        "#creating an array from the list\n",
        "import numpy as np\n",
        "arr1 = np.array([1,2,3,4,5])\n",
        "print(\"array created from list:\",arr1)\n",
        "\n",
        "#array of zeros\n",
        "arr_zeros = np.zeros((3,3))\n",
        "print(\"array of zeros:\",arr_zeros)\n",
        "\n",
        "#array of ones\n",
        "arr_ones = np.ones((3,3))\n",
        "print(\"array of ones:\",arr_ones)\n",
        "\n",
        "#2d identity matrix\n",
        "identity_matrix = np.eye(3)\n",
        "print(\"2D Identity Matrix:\\n\",identity_matrix)\n",
        "\n",
        "#np.range--lower bound is exclusive and upper bound is not inclusive .\n",
        "\n",
        "arr_range = np.arange(0,20,3)\n",
        "print(\"array created from arange:\",arr_range)\n",
        "\n",
        "#lineaer space\n",
        "arr_linespace = np.linspace(0,1,5)\n",
        "\n",
        "print(\"array created from linespace:\",arr_linespace)\n",
        "\n",
        "#random\n",
        "arr_random = np.random.rand(2,3)\n",
        "print(\"Random array if 2X3:\\n\",arr_random)"
      ]
    },
    {
      "cell_type": "code",
      "source": [
        "import numpy as np\n",
        "import matplotlib.pyplot as plt\n",
        "import skfuzzy as fuzz\n",
        "from skfuzzy import control as ctrl\n"
      ],
      "metadata": {
        "id": "ZPGujub397iO"
      },
      "execution_count": null,
      "outputs": []
    },
    {
      "cell_type": "code",
      "source": [
        "#write the code for calcutor using numpy\n",
        "import numpy as np\n",
        "\n",
        "print(\"Welcome to the calculator\")\n",
        "print(\"1.Addition\")\n",
        "print(\"2.Subtraction\")\n",
        "print(\"3.Multiplication\")\n",
        "print(\"4.Division\")\n",
        "print(\"5.square root\")\n",
        "print(\"6.logrithm\")\n",
        "print(\"7.exponential\")\n",
        "print(\"8.sincant value\")\n",
        "print(\"9.cosine value\")\n",
        "print(\"10.tangent value\")\n",
        "a = int(input(\"enter the first number:\"))\n",
        "b = int(input(\"enter the second number:\"))\n",
        "choice = int(input(\"Enter your choice:\"))\n",
        "if choice == 1:\n",
        "  print(\"Addition of two numbers is:\",np.add(a,b))\n",
        "  print(\"Addition of two numbers is:\",a+b)\n",
        "elif choice == 2:\n",
        "  print(\"Subtraction of two numbers is:\",np.subtract(a,b))\n",
        "  print(\"Subtraction of two numbers is:\",a-b)\n",
        "elif choice == 3:\n",
        "  print(\"Multiplication of two numbers is:\",np.multiply(a,b))\n",
        "  print(\"Multiplication of two numbers is:\",a*b)\n",
        "elif choice == 4:\n",
        "  print(\"Division of two numbers is:\",np.divide(a,b))\n",
        "  print(\"Division of two numbers is:\",a/b)\n",
        "elif choice ==5:\n",
        "  print(\"Square root of two numbers is:\",np.sqrt(a))\n",
        "  print(\"Square root of two numbers is:\",np.sqrt(b))\n",
        "elif choice ==6:\n",
        "  print(\"Logrithm of two numbers is:\",np.log(a))\n",
        "  print(\"Logrithm of two numbers is:\",np.log(b))\n",
        "elif choice ==7:\n",
        "  print(\"Exponential of two numbers is:\",np.exp(a))\n",
        "  print(\"Exponential of two numbers is:\",np.exp(b))\n",
        "\n",
        "\n",
        "elif choice ==8:\n",
        "  print(\"Sine value of a is:\",np.sin(a))\n",
        "  print(\"Sine value of b numbers is:\",np.sin(b))\n",
        "elif choice ==9:\n",
        "  print(\"Cosine value of a numbers is:\",np.cos(a))\n",
        "  print(\"Cosine value of b numbers is:\",np.cos(b))\n",
        "elif choice ==10:\n",
        "  print(\"Tangent value of a numbers is:\",np.tan(a))\n",
        "  print(\"Tangent value of b numbers is:\",np.tan(b))\n",
        "\n",
        "else:\n",
        "  print(\"Invalid choice\")\n",
        "print(\"Thank you for using the calculator\")"
      ],
      "metadata": {
        "colab": {
          "base_uri": "https://localhost:8080/"
        },
        "id": "LLm3ZlHWFkHV",
        "outputId": "21e03f0a-fae8-4595-ba4d-eb586ad41d44"
      },
      "execution_count": null,
      "outputs": [
        {
          "output_type": "stream",
          "name": "stdout",
          "text": [
            "Welcome to the calculator\n",
            "1.Addition\n",
            "2.Subtraction\n",
            "3.Multiplication\n",
            "4.Division\n",
            "5.square root\n",
            "6.logrithm\n",
            "7.exponential\n",
            "8.sincant value\n",
            "9.cosine value\n",
            "10.tangent value\n",
            "enter the first number:4\n",
            "enter the second number:30\n",
            "Enter your choice:8\n",
            "Sine value of two numbers is: -0.7568024953079282\n",
            "Sine value of two numbers is: -0.9880316240928618\n",
            "Thank you for using the calculator\n"
          ]
        }
      ]
    }
  ]
}